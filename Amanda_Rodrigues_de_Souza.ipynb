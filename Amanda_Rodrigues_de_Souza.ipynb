{
  "nbformat": 4,
  "nbformat_minor": 0,
  "metadata": {
    "colab": {
      "provenance": [],
      "authorship_tag": "ABX9TyNXZu4HMoIlCkQtWeV8JWe+",
      "include_colab_link": true
    },
    "kernelspec": {
      "name": "python3",
      "display_name": "Python 3"
    },
    "language_info": {
      "name": "python"
    }
  },
  "cells": [
    {
      "cell_type": "markdown",
      "metadata": {
        "id": "view-in-github",
        "colab_type": "text"
      },
      "source": [
        "<a href=\"https://colab.research.google.com/github/RSAmanda/Ada_ifood_Conding_Tank/blob/main/Amanda_Rodrigues_de_Souza.ipynb\" target=\"_parent\"><img src=\"https://colab.research.google.com/assets/colab-badge.svg\" alt=\"Open In Colab\"/></a>"
      ]
    },
    {
      "cell_type": "markdown",
      "source": [
        "# Amanda Rodrigues de Souza\n",
        "amandars@id.uff.br\n",
        "\n",
        "avaliação na data: 27 de setembro de 2023"
      ],
      "metadata": {
        "id": "T2EANty2P3Ve"
      }
    },
    {
      "cell_type": "markdown",
      "source": [
        "1) Considere o seguinte trecho de código, parte de um sistema de entrega de alimentos por aplicativo:\n",
        "\n",
        "i = input('Digite o número da casa: ')\n",
        "Caso o usuário digite na caixa de texto de entrada o valor 142, qual será o tipo de dado da variável i?\n",
        "\n",
        "a) int\n",
        "\n",
        "b) str\n",
        "\n",
        "c) float\n",
        "\n",
        "d) bool\n",
        "\n",
        "e) list"
      ],
      "metadata": {
        "id": "VoZQLwT_yETf"
      }
    },
    {
      "cell_type": "markdown",
      "source": [
        "A resposta correta é a a letra 'B', pois a saída do 'input' é do tipo str."
      ],
      "metadata": {
        "id": "ocfMWLhGKNRU"
      }
    },
    {
      "cell_type": "markdown",
      "source": [
        "-----------------------"
      ],
      "metadata": {
        "id": "c4gvJx3lPg49"
      }
    },
    {
      "cell_type": "markdown",
      "source": [
        "2) Você precisa implementar um código em Python que calcula o preço total de uma compra,\n",
        "dado o preço unitário de um dado produto (armazenado na variável preco) e a quantidade de unidades compradas (armazenado na variável quantidade).\n",
        "Assuma que temos apenas um único produto comprado. Assinale a alternativa que corretamente implementa este procedimento:\n",
        "\n",
        "a) preco_total = quantidade *= preco\n",
        "\n",
        "b) preco_total = quantidade * preco\n",
        "\n",
        "c) preco_total = quantidade += preco\n",
        "\n",
        "d) preco_total = quantidade / preco\n",
        "\n",
        "e) nda\n"
      ],
      "metadata": {
        "id": "CB5JCM2fKS4b"
      }
    },
    {
      "cell_type": "markdown",
      "source": [
        "A resposta correta é a a letra 'B', pois para sabermos o preço total precisamos multiplicar o preço unitário pela quantidade de unidade compradas, e tal multiplicação armazenada na variável 'preco_total'.\n"
      ],
      "metadata": {
        "id": "Sn4sgo7PKWsQ"
      }
    },
    {
      "cell_type": "markdown",
      "source": [
        "------------"
      ],
      "metadata": {
        "id": "NgmtNjxaPkC3"
      }
    },
    {
      "cell_type": "markdown",
      "source": [
        "3) Na variável restaurantes_ano temos uma lista de listas,\n",
        "em que cada elemento é uma lista de dois elementos, em que o primeiro é o nome de um restaurante cadastrado na plataforma de delivery,\n",
        "e o segundo é o ano em que o cadastro foi realizado. Você deseja criar uma nova lista de listas, em que cada elemento é uma lista de dois elementos,\n",
        "sendo o primeiro o nome do restaurante (como é na lista original), e o segundo é o número de anos em que o restaurante está cadastrado na plataforma (considere que o ano atual é 2023).\n",
        "Qual das alternativas a seguir corretamente completa o trecho de código iniciado abaixo, para corretamente construir a lista desejada?\n",
        "\n",
        "restaurantes_idade = []\n",
        "\n",
        "for lista in restaurantes_ano:\n",
        "\n",
        "    # o código da alternativa correta deve vir aqui\n",
        "Ao revisar este código, qual das alternativas a seguir produz o mesmo resultado?\n",
        "\n",
        "a) restaurantes_idade.append([lista[0], lista[1] - 2023])\n",
        "\n",
        "b) restaurantes_idade.append([lista[1], 2023 - lista[0]])\n",
        "\n",
        "c) restaurantes_idade.append([lista[1], lista[0] - 2023])\n",
        "\n",
        "d) restaurantes_idade.append([lista, 2023 - lista])\n",
        "\n",
        "e) restaurantes_idade.append([lista[0], 2023 - lista[1]])"
      ],
      "metadata": {
        "id": "ddSxNgfNKblp"
      }
    },
    {
      "cell_type": "markdown",
      "source": [
        "A resposta correta é a letra 'E',\n",
        "pois cada elemento da lista 'restaurante_idade' será uma lista com o nome do restaurante (presente na posição 0 da lista 'lista') no primeiro elemento, e no segundo elemento será a subtração do ano atual (2023) com o ano em que o restaurante foi cadastrado na plataforma (presente na posição 1 da lista 'lista').\n"
      ],
      "metadata": {
        "id": "zc_zbpU0KgL0"
      }
    },
    {
      "cell_type": "markdown",
      "source": [
        "---------------"
      ],
      "metadata": {
        "id": "qLJ0ld9oPl9D"
      }
    },
    {
      "cell_type": "markdown",
      "source": [
        "4) Queremos criar uma lista para armazenar os preços dos produtos de determinado restaurante. Em qual das opções abaixo a variável precos_produtos não é uma lista?\n",
        "\n",
        "a) precos_produtos = []\n",
        "\n",
        "b) precos_produtos = list(\"1 2 3 4\")\n",
        "\n",
        "c) precos_produtos = (1, 1.5, 3.8)\n",
        "\n",
        "d) precos_produtos = [1, 2, 3, 4]\n",
        "\n",
        "e) precos_produtos = list()\n",
        "\n",
        "iFood"
      ],
      "metadata": {
        "id": "qgEK4umiwGp9"
      }
    },
    {
      "cell_type": "markdown",
      "source": [
        "ALTERNATIVA C\n",
        "Pois a sintaxe não representa a criação de uma lista, que deve ter `list()` ou `[]` em sua criação.\n",
        "\n",
        "\n"
      ],
      "metadata": {
        "id": "G4z78yfKwj23"
      }
    },
    {
      "cell_type": "markdown",
      "source": [
        "----------------"
      ],
      "metadata": {
        "id": "ZxALXd2DPn17"
      }
    },
    {
      "cell_type": "markdown",
      "source": [
        "5) Quando determinado entregador de um serviço de delivery atinge 100 entregas feitas, ele recebe uma gratificação, indicando que ele subiu de nível na plataforma de entregas. Enquanto este número não é alcançado, uma mensagem indicando quantas entregas ainda faltam é exibida na tela. Para implementar esta lógica, você começou criando o seguinte código:\n",
        "\n",
        "\n",
        "```\n",
        "\n",
        "num_entregas = 0\n",
        "nivel = 0\n",
        "\n",
        "while (num_entregas < 100):\n",
        "\n",
        "    print(f\"Faltam {100 - num_entregas} entregas para você mudar de nível!\")\n",
        "\n",
        "    # código da alternativa correta aqui\n",
        "\n",
        "print(\"\\nVocê atingiu o próximo nível!\")\n",
        "nivel = 1\n",
        "\n",
        "```\n",
        "Assinale a alternativa que corretamente implementa a lógica desejada, substituindo o comentário no código acima:\n",
        "\n",
        "a) num_entregas += 1\n",
        "\n",
        "b) num_entregas = 100 - num_entregas\n",
        "\n",
        "c) num_entregas -= 1\n",
        "\n",
        "d) num_entregas = 100 + num_entregas\n",
        "\n",
        "e) num_entregas += 100"
      ],
      "metadata": {
        "id": "loM0HPlww873"
      }
    },
    {
      "cell_type": "markdown",
      "source": [
        "ALTERNATIVA A.\n",
        "\n",
        "O numero de entregas começa com zero, então, para alcançar 100 entregas (nível 1) é necessário acrescentar o valor 1 cada fez que o entregador fizer uma entrega.\n",
        "\n",
        "A expressão `num_entregas += 1` tem o mesmo sentido que `num_entregas = num_entregas + 1`."
      ],
      "metadata": {
        "id": "eU6J21G1xaFj"
      }
    },
    {
      "cell_type": "markdown",
      "source": [
        "---------------"
      ],
      "metadata": {
        "id": "r-BnUIvBPp5O"
      }
    },
    {
      "cell_type": "markdown",
      "source": [
        "6) Em um aplicativo de delivery, é muito importante que as entregas sejam feitas no menor tempo possível, para maior satisfação dos clientes. Pensando nisso, uma importante componente do sistema informacional de entregas deve calcular qual é o tempo estimado de entrega de um pedido, com base na distância entre o restaurante e o destino, e assumindo que o entregador viaja a uma velocidade constante de 50 km/h. Faça um código em Python que calcule o tempo de entrega em minutos, completando o template de código a seguir, na qual a distância em km deve ser informada pelo usuário:\n",
        "\n",
        "\n",
        "\n",
        "\n",
        "```\n",
        "velocidade = 50\n",
        "\n",
        "distancia = # código para receber como input do usuário a distância em km\n",
        "\n",
        "tempo = # código que implementa a lógica do cálculo do tempo, em minutos\n",
        "\n",
        "print(f\"\\nO tempo estimado de entrega é de {tempo} minutos!\")\n",
        "```\n",
        "\n",
        "\n",
        "\n",
        "> Dica: o tempo necessário para percorrer uma dada distância à velocidade constante é dado pelo quociente entre a distância e a velocidade. Atenção às unidades!"
      ],
      "metadata": {
        "id": "XUf_Xbi7yNMh"
      }
    },
    {
      "cell_type": "code",
      "source": [
        "velocidade = 50 # em km/h\n",
        "\n",
        "# pedindo para o usuário a distância em km\n",
        "# a função float() transforma a saída o input de string para float.\n",
        "# A variável em str impossibilita o cálculo necessário.\n",
        "distancia = float(input(\"Informe a distância em quilômetros: \\t\"))\n",
        "\n",
        "tempo = distancia/velocidade\n",
        "# porém, a variável tempo está em horas, é necessário converter para minutos\n",
        "# sabendo que cada hora tem 60 minutos, podemos converter a unidade multiplicando por 60\n",
        "\n",
        "tempo *= 60\n",
        "# assim, podemos retornar para o usuário a resposta pedida (em minutos):\n",
        "print(f\"\\nO tempo estimado de entrega é de {tempo} minutos!\")"
      ],
      "metadata": {
        "colab": {
          "base_uri": "https://localhost:8080/"
        },
        "id": "BbWcCndoxCja",
        "outputId": "ff69536e-cda5-4ec4-fc6e-8c3dbeb967d7"
      },
      "execution_count": null,
      "outputs": [
        {
          "output_type": "stream",
          "name": "stdout",
          "text": [
            "Informe a distância em quilômetros: \t50\n",
            "\n",
            "O tempo estimado de entrega é de 60.0 minutos!\n"
          ]
        }
      ]
    },
    {
      "cell_type": "markdown",
      "source": [
        "------------"
      ],
      "metadata": {
        "id": "QTLAcpBOPsFs"
      }
    },
    {
      "cell_type": "markdown",
      "source": [
        "7) Em um aplicativo de delivery, é importante que tenhamos um registro de todos os clientes que fazem pedidos em determinado restaurante, para que seja possível enviarmos cupons de desconto para os clientes que mais pedem, por exemplo.\n",
        "\n",
        "Para começar a prototipar esta funcionalidade no aplicativo, você deve criar um programa em Python que leia diversos números inteiros e insira todos em uma lista (esses números são os identificadores dos clientes). A cada solicitação de número, pergunte ao usuário se deseja inserir outro número: tendo como resposta 'S' para inserir mais um; ou 'N' caso queira terminar. É possível que o mesmo número seja digitado mais de uma vez (isso pode representar o mesmo cliente fazendo mais de um pedido). Após construir a lista, mostre:\n",
        "\n",
        "todos os números digitados na ordem em que foram inseridos\n",
        "\n",
        "todos os números digitados em ordem crescente\n",
        "\n",
        "a média destes valores\n",
        "\n",
        "apenas os números pares\n",
        "\n",
        "apenas os números ímpares\n",
        "\n",
        "apenas os números repetidos"
      ],
      "metadata": {
        "id": "nC3KuOH90ynV"
      }
    },
    {
      "cell_type": "code",
      "source": [
        "lista_id = list() # criando uma lista vazia para inserir os números\n",
        "while True: #um loop para pedir os id.\n",
        "  resp = input(\"Deseja inserir um novo número?\\nS -> SIM \\t N -> NÃO\\n\").upper()\n",
        "  if resp =='S': # se sim, inserir mais um número de id na lista\n",
        "    id = int(input(\"Informe o número de identificação do cliente: \\t\"))\n",
        "    lista_id.append(id)\n",
        "  else: # se não, sair do while\n",
        "    break\n",
        "\n",
        "print(\"\\n\\n\") #pulando duas linhas para ficar mais organizado\n",
        "\n",
        "print(\"Todos os números digitados na ordem que foram inseridos\")\n",
        "print(lista_id)\n",
        "\n",
        "print(\"Todos os números digitados em ordem crescente\")\n",
        "print(sorted(lista_id))\n",
        "\n",
        "# armazendo o total de elementos na lista na variável 'tot_id'\n",
        "tot_id = len(lista_id)\n",
        "\n",
        "# somando os valores\n",
        "soma = 0\n",
        "for i in lista_id:\n",
        "  soma += i\n",
        "\n",
        "# calculando a média\n",
        "media = soma/tot_id\n",
        "\n",
        "print(f\"A média dos valores é de {media}.\")\n",
        "\n",
        "lista_par = list() # inicializando uma lista vazia para inserir os valores pares\n",
        "lista_impar = list() # inicializando uma lista vazia para inserir os valores ímpares\n",
        "for i in lista_id:\n",
        "  if i%2 == 0: # verificando se é par\n",
        "    lista_par.append(i)\n",
        "  else: # se não for par, é ímpar\n",
        "    lista_impar.append(i)\n",
        "\n",
        "print(f\"Lista com apenas os números pares:\\n{lista_par}\\nLista com apenas os números ímpares:\\n{lista_impar}\")\n",
        "\n",
        "#verificando os repetidos\n",
        "lista_repetido = list()\n",
        "for i in range(len(lista_id)-1):\n",
        "  for j in range(i+1, len(lista_id)):\n",
        "    if lista_id[i] == lista_id[j]:\n",
        "      lista_repetido.append(lista_id[i])\n",
        "\n",
        "print(f\"Lista com apenas os números repetidos:\\n{lista_par}\")\n"
      ],
      "metadata": {
        "colab": {
          "base_uri": "https://localhost:8080/"
        },
        "id": "veT-47IUz-Sk",
        "outputId": "a46fad8c-9832-4871-ed83-d46e3bc8803d"
      },
      "execution_count": null,
      "outputs": [
        {
          "output_type": "stream",
          "name": "stdout",
          "text": [
            "Deseja inserir um novo número?\n",
            "S -> SIM \t N -> NÃO\n",
            "s\n",
            "Informe o número de identificação do cliente: \t1\n",
            "Deseja inserir um novo número?\n",
            "S -> SIM \t N -> NÃO\n",
            "s\n",
            "Informe o número de identificação do cliente: \t2\n",
            "Deseja inserir um novo número?\n",
            "S -> SIM \t N -> NÃO\n",
            "s\n",
            "Informe o número de identificação do cliente: \t3\n",
            "Deseja inserir um novo número?\n",
            "S -> SIM \t N -> NÃO\n",
            "s\n",
            "Informe o número de identificação do cliente: \t5\n",
            "Deseja inserir um novo número?\n",
            "S -> SIM \t N -> NÃO\n",
            "s\n",
            "Informe o número de identificação do cliente: \t2\n",
            "Deseja inserir um novo número?\n",
            "S -> SIM \t N -> NÃO\n",
            "s\n",
            "Informe o número de identificação do cliente: \t1\n",
            "Deseja inserir um novo número?\n",
            "S -> SIM \t N -> NÃO\n",
            "s\n",
            "Informe o número de identificação do cliente: \t6\n",
            "Deseja inserir um novo número?\n",
            "S -> SIM \t N -> NÃO\n",
            "s\n",
            "Informe o número de identificação do cliente: \t3\n",
            "Deseja inserir um novo número?\n",
            "S -> SIM \t N -> NÃO\n",
            "s\n",
            "Informe o número de identificação do cliente: \t1\n",
            "Deseja inserir um novo número?\n",
            "S -> SIM \t N -> NÃO\n",
            "n\n",
            "\n",
            "\n",
            "\n",
            "Todos os números digitados na ordem que foram inseridos\n",
            "[1, 2, 3, 5, 2, 1, 6, 3, 1]\n",
            "Todos os números digitados em ordem crescente\n",
            "[1, 1, 1, 2, 2, 3, 3, 5, 6]\n",
            "A média dos valores é de 2.6666666666666665.\n",
            "Lista com apenas os números pares:\n",
            "[2, 2, 6]\n",
            "Lista com apenas os números ímpares:\n",
            "[1, 3, 5, 1, 3, 1]\n",
            "Lista com apenas os números repetidos:\n",
            "[2, 2, 6]\n"
          ]
        }
      ]
    },
    {
      "cell_type": "markdown",
      "source": [
        "------------"
      ],
      "metadata": {
        "id": "3tyd54fBPvJl"
      }
    },
    {
      "cell_type": "markdown",
      "source": [
        "8) Para que a entrega de alimentos seja feita com qualidade por um serviço de *delivery*, é muito importante que as caixas de transporte utilizadas por entregadores tenham um revestimento térmico interno, para manter a temperatura dos alimentos. Muitos destes revestimentos são importados de países que utilizam diferentes escalas de temperatura, de modo que as especificações quanto às temperaturas de operação podem gerar confusão.\n",
        "\n",
        "Pensando nisso, escreva um código em Python que recebe um número (que possa ter casas decimais) e a escala de temperatura em que este valor se encontra e para qual ele deseja converter (Celsius, Kelvin ou Fahrenheit). Tanto na escala em que se encontra quanto para a que deseja converter, utilize as letras iniciais como entrada: Celsius - 'C', Kelvin - 'K' ou Fahrenheit - 'F'.\n",
        "\n",
        "Seu código deve solicitar ao usuário as informações necessárias para realizar a conversão de temperatura (temperatura, escala_original, escala_convertida), de acordo com o template abaixo.\n",
        "\n",
        "\n",
        "\n",
        "```\n",
        "temperatura = # código para receber o valor numérico da temperatura desejada\n",
        "\n",
        "escala_original = # código para receber a escala original da temperatura informada\n",
        "\n",
        "escala_convertida = # código para receber a escala para a qual deseja-se converter a temperatura\n",
        "\n",
        "# implemente abaixo toda a lógica de conversão de temperaturas, bem como as validações necessárias.\n",
        "```\n",
        "\n",
        "> **Importante**: o programa deve trabalhar apenas com as 3 escalas supracitadas! **Então, não deixe de fazer as validações necessárias**. Além disso, por definição, não existem temperaturas em Kelvin abaixo de zero (o valor zero pode existir), portanto verifique também esta condição para que sejam feitas conversões válidas!\n",
        "\n",
        "Dica: as equações de conversão entre as escalas são as seguintes:\n",
        "\n",
        "Celsius <> Fahrenheit:\n",
        "\n",
        "$\\color{white}{\\frac{C}{5} = \\frac{F - 32}{9}}$\n",
        "\n",
        "Celsius <> Kelvin:\n",
        "\n",
        "$\\color{white}{C = K - 273}$\n",
        "\n",
        "Kelvin <> Fahrenheit:\n",
        "\n",
        "$\\color{white}{\\frac{K - 273}{5} = \\frac{F - 32}{9}}$"
      ],
      "metadata": {
        "id": "9Yi63nbr8pC9"
      }
    },
    {
      "cell_type": "code",
      "source": [
        "escala_original = input('Informe a escala original de temperatura\\nCelsius -> C\\tKelvin - K\\tFahrenheit - F\\n').upper()\n",
        "conf_escala = escala_original =='C' or escala_original =='K' or escala_original =='F'\n",
        "while not conf_escala:\n",
        "  escala_original = input('Informe a escala original de temperatura\\nCelsius -> C\\tKelvin - K\\tFahrenheit - F\\n').upper()\n",
        "  conf_escala = escala_original =='C' or escala_original =='K' or escala_original =='F'\n",
        "\n",
        "temperatura = float(input('Informe a temperatura: \\t'))\n",
        "conf_temperatura = escala_original =='K' and temperatura < 0\n",
        "while conf_temperatura:\n",
        "  temperatura = float(input('Não é permitido valor negativo na escala Kelvin, informe a temperatura novamente:\\t'))\n",
        "  conf_temperatura = escala_original =='K' and temperatura < 0\n",
        "\n",
        "escala_convertida = input('Informe a escala convertida de temperatura\\nCelsius -> C\\tKelvin - K\\tFahrenheit - F\\n').upper()\n",
        "conf_escala_convertida = escala_convertida =='C' or escala_convertida =='K' or escala_convertida =='F'\n",
        "while not conf_escala_convertida:\n",
        "  escala_convertida = input('Informe a escala original de temperatura\\nCelsius -> C\\tKelvin - K\\tFahrenheit - F\\n').upper()\n",
        "  conf_escala_convertida = escala_convertida =='C' or escala_convertida =='K' or escala_convertida =='F'\n",
        "\n",
        "if escala_original == 'C':\n",
        "  if escala_convertida == 'C':\n",
        "    print(f\"Não é necessário fazer conversão, a temperatura já está em Celsius:\\n{temperatura}°C\")\n",
        "  elif escala_convertida == 'F':\n",
        "    temperatura_convertida = (9/5)*temperatura + 32\n",
        "    print(f\"A conversão de {temperatura}°C para Fahrenheit é de {temperatura_convertida}°{escala_convertida}\")\n",
        "\n",
        "  else: #kelvin\n",
        "    temperatura_convertida = temperatura - 273\n",
        "    print(f\"A conversão de {temperatura}°C para Kelvin é de {temperatura_convertida} {escala_convertida}\")\n",
        "\n",
        "elif escala_original == 'F':\n",
        "  if escala_convertida == 'C':\n",
        "    temperatura_convertida = (5/9)*(temperatura - 32)\n",
        "    print(f\"A conversão de {temperatura}°F para Celsius é de {temperatura_convertida}°{escala_convertida}\")\n",
        "  elif escala_convertida == 'F':\n",
        "    print(f\"Não é necessário fazer conversão, a temperatura já está em Fahrenheit:\\n{temperatura}°F\")\n",
        "  else: # kelvin\n",
        "    temperatura_convertida = (5/9)*(temperatura - 32) + 273\n",
        "    print(f\"A conversão de {temperatura}°F para Kelvin é de {temperatura_convertida} {escala_convertida}\")\n",
        "\n",
        "else: # K\n",
        "  if escala_convertida == 'C':\n",
        "    temperatura_convertida = temperatura - 273\n",
        "    print(f\"A conversão de {temperatura} K para Celsius é de {temperatura_convertida}°{escala_convertida}\")\n",
        "  elif escala_convertida == 'F':\n",
        "    temperatura_convertida = (9/5)*(temperatura - 273) + 32\n",
        "    print(f\"A conversão de {temperatura} K para Fahrenheit é de {temperatura_convertida}°{escala_convertida}\")\n",
        "  else:\n",
        "    print(f\"Não é necessário fazer conversão, a temperatura já está em Kelvin:\\n{temperatura}K\")"
      ],
      "metadata": {
        "colab": {
          "base_uri": "https://localhost:8080/"
        },
        "id": "tSqaCuVo-DIP",
        "outputId": "f1dd479f-1e78-4843-b742-6fd1db75eaf2"
      },
      "execution_count": null,
      "outputs": [
        {
          "output_type": "stream",
          "name": "stdout",
          "text": [
            "Informe a escala original de temperatura\n",
            "Celsius -> C\tKelvin - K\tFahrenheit - F\n",
            "C\n",
            "Informe a temperatura: \t10\n",
            "Informe a escala convertida de temperatura\n",
            "Celsius -> C\tKelvin - K\tFahrenheit - F\n",
            "C\n",
            "Não é necessário fazer conversão, a temperatura já está em Celsius:\n",
            "10.0°C\n"
          ]
        }
      ]
    },
    {
      "cell_type": "markdown",
      "source": [
        "---------------"
      ],
      "metadata": {
        "id": "nDSjDJ0kPxHt"
      }
    },
    {
      "cell_type": "markdown",
      "source": [
        "9) Um restaurante deseja saber quais são seus produtos mais vendidos em um aplicativo de delivery. Em uma lista, há registrados os nomes dos produtos, na ordem em que eles são vendidos (portanto, há elementos repetidos nesta lista). Faça um programa que exibe na tela cada um dos produtos na lista de input, e a quantidade em que eles foram vendidos (separados por um traço), de modo que teremos uma mensagem em cada linha. Os produtos devem ser exibidos em ordem alfabética.\n",
        "\n",
        "Ex.: para a lista produtos = [\"Hambúrguer\", \"Fritas\", \"Fritas\", \"Refrigerante\", \"Fritas\", \"Hambúrguer\"]\n",
        "\n",
        "Devemos ter as seguintes mensagens exibidas na tela:\n",
        "\n",
        "Fritas - 3\n",
        "Hambúrguer - 2\n",
        "Refrigerante - 1"
      ],
      "metadata": {
        "id": "8VeAD1xgGH_q"
      }
    },
    {
      "cell_type": "code",
      "source": [
        "produtos = [\"Hambúrguer\", \"Fritas\", \"Fritas\", \"Refrigerante\", \"Fritas\", \"Hambúrguer\"]\n",
        "produtos_ordenados = sorted(produtos)\n",
        "produtos_ordenados\n",
        "cont = 1\n",
        "while len(produtos_ordenados)>1:\n",
        "  if produtos_ordenados[0] == produtos_ordenados[1]:\n",
        "    cont +=1\n",
        "    produtos_ordenados.pop(0)\n",
        "  else:\n",
        "    print(f'{produtos_ordenados[0]} - {cont}')\n",
        "    produtos_ordenados.pop(0)\n",
        "    cont = 1\n",
        "print(f'{produtos_ordenados[0]} - {cont}')"
      ],
      "metadata": {
        "colab": {
          "base_uri": "https://localhost:8080/"
        },
        "id": "P2zjiT8ZG5-6",
        "outputId": "e5909b50-b8de-46d6-f32e-5be322dde8ef"
      },
      "execution_count": null,
      "outputs": [
        {
          "output_type": "stream",
          "name": "stdout",
          "text": [
            "Fritas - 3\n",
            "Hambúrguer - 2\n",
            "Refrigerante - 1\n"
          ]
        }
      ]
    },
    {
      "cell_type": "markdown",
      "source": [
        "----------------"
      ],
      "metadata": {
        "id": "iWjt3q0YPzz2"
      }
    },
    {
      "cell_type": "markdown",
      "source": [
        "10) Para bem distribuir os pedidos aos entregadores disponíveis, um aplicativo de delivery usa a seguinte regra:\n",
        "\n",
        "- cada entregador deve entregar, em uma única corrida, no máximo 5 pedidos;\n",
        "- as casas de destino que serão atribuídas a um mesmo entregador serão todas aquelas que estão a um raio de no máximo 10 km do restaurante, respeitando a regra anterior.\n",
        "\n",
        "Considere que como input do problema, recebemos uma lista em que cada elemento armazena a distância (de linha reta) em km entre a casa que fez o respectivo pedido e o restaurante. Faça um código que distribua estes pedidos a um dado entregador, seguindo as regras acima, de modo que a saída deve ser uma lista que contém os índices dos elementos da lista original que farão parte da corrida do entregador - considere que os primeiros elementos da lista têm prioridade."
      ],
      "metadata": {
        "id": "3c0LezxjJtQs"
      }
    },
    {
      "cell_type": "code",
      "source": [
        "dist_pedidos = list()\n",
        "while True:\n",
        "  resp = input(\"Incluir a distância de mais um pedido na lista? \\nS -> SIM \\t N -> Não\\n\").upper()\n",
        "  if resp == 'N':\n",
        "    break\n",
        "  elif resp == 'S':\n",
        "    dist_pedidos.append(float(input(\"Informe a distância do pedido: \\t\")))\n",
        "  else:\n",
        "    print(\"Resposta incoerente. Digite novamente.\")\n",
        "\n",
        "qtd_pedidos = len(dist_pedidos)\n",
        "\n",
        "dist_pedidos_bool = list()\n",
        "\n",
        "for i in range(qtd_pedidos):\n",
        "  if dist_pedidos[i] <= 10: # se os pedidos estão a uma distância menor que 10 km\n",
        "    dist_pedidos_bool.append(True) # informa verdadeiro\n",
        "  else:\n",
        "    dist_pedidos_bool.append(False) # se não é falso\n",
        "\n",
        "\n",
        "#agora faremos uma lista com as 5 primeiros pedidos com menos de 10 km\n",
        "ordem_pedidos = list()\n",
        "cont = 0\n",
        "i = 0\n",
        "while cont <= 5 or cont >qtd_pedidos : #\n",
        "  if dist_pedidos_bool[i] == True:\n",
        "    ordem_pedidos.append(i)\n",
        "  i += 1\n",
        "  cont += 1\n",
        "\n",
        "print(f'Os pedidos entregues serão: \\n {ordem_pedidos}')"
      ],
      "metadata": {
        "colab": {
          "base_uri": "https://localhost:8080/"
        },
        "id": "UKt4DuWIJpBW",
        "outputId": "5723b540-44fc-43d5-f8af-ff670b2efdf4"
      },
      "execution_count": null,
      "outputs": [
        {
          "output_type": "stream",
          "name": "stdout",
          "text": [
            "Incluir a distância de mais um pedido na lista? \n",
            "S -> SIM \t N -> Não\n",
            "s\n",
            "Informe a distância do pedido: \t10\n",
            "Incluir a distância de mais um pedido na lista? \n",
            "S -> SIM \t N -> Não\n",
            "s\n",
            "Informe a distância do pedido: \t2\n",
            "Incluir a distância de mais um pedido na lista? \n",
            "S -> SIM \t N -> Não\n",
            "s\n",
            "Informe a distância do pedido: \t19\n",
            "Incluir a distância de mais um pedido na lista? \n",
            "S -> SIM \t N -> Não\n",
            "s\n",
            "Informe a distância do pedido: \t4\n",
            "Incluir a distância de mais um pedido na lista? \n",
            "S -> SIM \t N -> Não\n",
            "s\n",
            "Informe a distância do pedido: \t1\n",
            "Incluir a distância de mais um pedido na lista? \n",
            "S -> SIM \t N -> Não\n",
            "s\n",
            "Informe a distância do pedido: \t5\n",
            "Incluir a distância de mais um pedido na lista? \n",
            "S -> SIM \t N -> Não\n",
            "n\n",
            "Os pedidos entregues serão: \n",
            " [0, 1, 3, 4, 5]\n"
          ]
        }
      ]
    },
    {
      "cell_type": "code",
      "source": [],
      "metadata": {
        "id": "hxCqYDhAPPz0"
      },
      "execution_count": null,
      "outputs": []
    }
  ]
}