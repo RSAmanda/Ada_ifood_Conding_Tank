{
  "nbformat": 4,
  "nbformat_minor": 0,
  "metadata": {
    "colab": {
      "provenance": [],
      "authorship_tag": "ABX9TyOyH+vWyzqX33ssobRpSXKz",
      "include_colab_link": true
    },
    "kernelspec": {
      "name": "python3",
      "display_name": "Python 3"
    },
    "language_info": {
      "name": "python"
    }
  },
  "cells": [
    {
      "cell_type": "markdown",
      "metadata": {
        "id": "view-in-github",
        "colab_type": "text"
      },
      "source": [
        "<a href=\"https://colab.research.google.com/github/RSAmanda/Ada_ifood_Conding_Tank/blob/main/Exerc%C3%ADcios_CodeTank_ADA.ipynb\" target=\"_parent\"><img src=\"https://colab.research.google.com/assets/colab-badge.svg\" alt=\"Open In Colab\"/></a>"
      ]
    },
    {
      "cell_type": "markdown",
      "source": [
        "# Exercícios do Coding Tank\n",
        "\n",
        "Amanda Rodrigues de Souza"
      ],
      "metadata": {
        "id": "H_Uw6GCiHqF8"
      }
    },
    {
      "cell_type": "markdown",
      "source": [
        "## Aula 01\n",
        "Data: 18/09/2023\n",
        "\n",
        "### Tópicos\n",
        "\n",
        "- Variáveis\n",
        "- Tipos básicos\n",
        "- Entradas/Saídas\n",
        "- Operadores aritméticos, atribuição e comparação"
      ],
      "metadata": {
        "id": "lfEnGDg3HqJ2"
      }
    },
    {
      "cell_type": "markdown",
      "source": [
        "Faça um programa que solicite ao usuário que insira seu ano de nascimento. Desconsiderando o mês do ano de nascimento, emita uma mensagem dizendo quantos anos ele possui."
      ],
      "metadata": {
        "id": "ZVTm1jh_I2ul"
      }
    },
    {
      "cell_type": "code",
      "execution_count": null,
      "metadata": {
        "colab": {
          "base_uri": "https://localhost:8080/"
        },
        "id": "GtPDd52PHjKl",
        "outputId": "0b943acb-99bb-429f-e86c-acda08662016"
      },
      "outputs": [
        {
          "output_type": "stream",
          "name": "stdout",
          "text": [
            "\n",
            "Digite seu nome: Amanda\n",
            "\n",
            "Digite sua idade: 29\n",
            "\n",
            "Digite seu hobby: comer\n",
            "\n",
            "\n",
            "Meu nome é Amanda, tenho 29 e meu hobby é comer.\n"
          ]
        }
      ],
      "source": [
        "# recebendo informações do usuário\n",
        "nome = input(\"\\nDigite seu nome: \")\n",
        "idade = int(input(\"\\nDigite sua idade: \"))\n",
        "hobby = input(\"\\nDigite seu hobby: \")\n",
        "print(\"\\n\")\n",
        "\n",
        "# saída da sentença\n",
        "print(f'Meu nome é {nome}, tenho {idade} e meu hobby é {hobby}.')"
      ]
    },
    {
      "cell_type": "markdown",
      "source": [
        "Imagine que você está implementando um sistema para verificar se os alunos de uma turma estudantil passaram na disciplina ou não. Para isso solicite que o usuário insira as notas das 4 provas realizadas por um estudante e calcule a média. Após isso, emita uma resposta booleana (True ou False) se o estudante passou na disciplina pensando que a média mínima para aprovação é que seja pelo menos 5."
      ],
      "metadata": {
        "id": "kPX6z1FtKQMM"
      }
    },
    {
      "cell_type": "code",
      "source": [
        "nota = float(input(\"Informe a nota 1: \"))\n",
        "nota = nota + float(input(\"Informe a nota 2: \"))\n",
        "nota = nota + float(input(\"Informe a nota 3: \"))\n",
        "nota = nota + float(input(\"Informe a nota 4: \"))\n",
        "\n",
        "media = (nota)/4.0\n",
        "\n",
        "media >= 5"
      ],
      "metadata": {
        "colab": {
          "base_uri": "https://localhost:8080/"
        },
        "id": "Q47825bdKTNx",
        "outputId": "e2765a56-00db-4cf1-fa71-73b81ee94201"
      },
      "execution_count": null,
      "outputs": [
        {
          "name": "stdout",
          "output_type": "stream",
          "text": [
            "Informe a nota 1: 6\n",
            "Informe a nota 2: 7\n",
            "Informe a nota 3: 4\n",
            "Informe a nota 4: 5\n"
          ]
        },
        {
          "output_type": "execute_result",
          "data": {
            "text/plain": [
              "True"
            ]
          },
          "metadata": {},
          "execution_count": 9
        }
      ]
    },
    {
      "cell_type": "markdown",
      "source": [
        "Crie um algoritmo que calcule o IMC (índice de massa corporal). O IMC é calculado com a formula PESO/(ALTURA ^ 2). Para isso, coloque as informações nas variáveis e ao final apresente o resultado como no exemplo: \"O IMC é 18\""
      ],
      "metadata": {
        "id": "p0NXbebEOf4m"
      }
    },
    {
      "cell_type": "code",
      "source": [
        "peso  = float(input(\"\\nInforme seu peso: \"))\n",
        "altura = float(input(\"\\nInforme sua altura: \"))\n",
        "\n",
        "imc = peso/altura**2\n",
        "\n",
        "print(f'O IMC é {round(imc,2)}')"
      ],
      "metadata": {
        "colab": {
          "base_uri": "https://localhost:8080/"
        },
        "id": "RbCL-oZcOhhP",
        "outputId": "a489c843-7683-49b0-b2b1-0204b311db0b"
      },
      "execution_count": null,
      "outputs": [
        {
          "output_type": "stream",
          "name": "stdout",
          "text": [
            "\n",
            "Informe seu peso: 50\n",
            "\n",
            "Informe sua altura: 1.6\n",
            "O IMC é 19.53\n"
          ]
        }
      ]
    },
    {
      "cell_type": "markdown",
      "source": [
        "Escreva um algoritmo que calcule (x + y) * (x + y). Os valores de x e y devem ser inseridos pelo usuário"
      ],
      "metadata": {
        "id": "-zTEvmiTPLmy"
      }
    },
    {
      "cell_type": "code",
      "source": [
        "x  = float(input(\"\\nInforme valor de x: \"))\n",
        "y = float(input(\"\\nInforme valor de y: \"))\n",
        "\n",
        "print(f'O resultado da expressão (x+y)*(x+y) = {(x + y) * (x + y)}')"
      ],
      "metadata": {
        "colab": {
          "base_uri": "https://localhost:8080/"
        },
        "id": "oEeLAt2-PM6K",
        "outputId": "bb020b0b-8472-4ba9-ae00-f45d9d9fd90e"
      },
      "execution_count": null,
      "outputs": [
        {
          "output_type": "stream",
          "name": "stdout",
          "text": [
            "\n",
            "Informe valor de x: 1\n",
            "\n",
            "Informe valor de y: 1\n",
            "O resultado da expressão (x+y)*(x+y) = 4.0\n"
          ]
        }
      ]
    },
    {
      "cell_type": "markdown",
      "source": [
        "## Aula 02\n",
        "\n",
        "Data: 20/09/2023\n",
        "\n",
        "### Tópicos\n",
        "\n",
        "- Operadores lógicos de conjunção\n",
        "- Estrutura condicional e controle de fluxo\n",
        "- Comando if\n",
        "- Comando else\n",
        "- Comando elif"
      ],
      "metadata": {
        "id": "SAzxYg5iH78Q"
      }
    },
    {
      "cell_type": "markdown",
      "source": [
        "1) Faça um programa que peça a idade do usuário e imprima se ele é maior ou menor de 18 anos."
      ],
      "metadata": {
        "id": "pxvTo6cLP6yG"
      }
    },
    {
      "cell_type": "code",
      "source": [
        "idade = int(input(\"Informa sua idade: \"))\n",
        "print(f'Sua idade é {idade}.')\n",
        "if idade < 18:\n",
        "  print(f'E você é menor de idade.')\n",
        "else :\n",
        "  print(f'E você é maior de idade.')"
      ],
      "metadata": {
        "colab": {
          "base_uri": "https://localhost:8080/"
        },
        "id": "zY8wfwuhSmTu",
        "outputId": "74b96e74-a012-4480-ada8-de79e9511b3e"
      },
      "execution_count": null,
      "outputs": [
        {
          "output_type": "stream",
          "name": "stdout",
          "text": [
            "Informa sua idade: 30\n",
            "Sua idade é 30.\n",
            "E você é maior de idade.\n"
          ]
        }
      ]
    },
    {
      "cell_type": "markdown",
      "source": [
        "2) Faça um programa que peça um número e mostre se ele é positivo ou negativo. Alternativa: acrescentar nulo"
      ],
      "metadata": {
        "id": "0tkcUwYdP6vR"
      }
    },
    {
      "cell_type": "code",
      "source": [
        "num = float(input(\"Informe um número: \"))\n",
        "\n",
        "if(num>0):\n",
        "  print(\"\\nPositivo\")\n",
        "elif(num<0):\n",
        "    print(\"\\nNegativo\")\n",
        "else:\n",
        "    print(\"\\nNulo\")"
      ],
      "metadata": {
        "colab": {
          "base_uri": "https://localhost:8080/"
        },
        "id": "PAR4yUJuTKgE",
        "outputId": "2f22f911-a44e-4130-b6ec-ae1ac9c4ce7c"
      },
      "execution_count": null,
      "outputs": [
        {
          "output_type": "stream",
          "name": "stdout",
          "text": [
            "Informe um número: -0.1\n",
            "\n",
            "Negativo\n"
          ]
        }
      ]
    },
    {
      "cell_type": "markdown",
      "source": [
        "3) Faça um programa que peça dois números e mostre o maior deles."
      ],
      "metadata": {
        "id": "MRJfsamWP6sm"
      }
    },
    {
      "cell_type": "code",
      "source": [
        "num1 = float(input(\"\\nDigite um número: \"))\n",
        "num2 = float(input(\"\\nDigite outro número: \"))\n",
        "\n",
        "if(num1 > num2):\n",
        "  print(num1, 'é maior que', num2)\n",
        "elif(num1 < num2):\n",
        "  print(num2, 'é maior que', num1)\n",
        "else:\n",
        "  print(num1, ' é igual a', num2)"
      ],
      "metadata": {
        "colab": {
          "base_uri": "https://localhost:8080/"
        },
        "id": "5Fha9npJTSTV",
        "outputId": "34a6504b-e1a5-447f-d87e-70d43b44fe8a"
      },
      "execution_count": null,
      "outputs": [
        {
          "output_type": "stream",
          "name": "stdout",
          "text": [
            "\n",
            "Digite um número: 2\n",
            "\n",
            "Digite outro número: 1\n",
            "2.0 é maior que 1.0\n"
          ]
        }
      ]
    },
    {
      "cell_type": "markdown",
      "source": [
        "4) Faça um programa que leia a validade das informações:\n",
        "\n",
        "a. Idade: entre 0 e 150;\n",
        "\n",
        "b. Salário: maior que 0;\n",
        "\n",
        "c. Sexo: M, F ou Outro;\n",
        "\n",
        "O programa deve imprimir uma mensagem de erro para cada informação inválida."
      ],
      "metadata": {
        "id": "X_FOsojEP6pr"
      }
    },
    {
      "cell_type": "code",
      "source": [
        "idade = int(input(\"Informa a idade: \"))\n",
        "if 0 <= idade <= 150:\n",
        "  print(\"Válido\")\n",
        "else:\n",
        "  print(\"Inválido\")\n",
        "\n",
        "salario = int(input(\"Informe o salário: \"))\n",
        "if salario > 0:\n",
        "  print(\"Válido\")\n",
        "else:\n",
        "  print(\"Inválido\")\n",
        "\n",
        "sexo = input(\"Informe o sexo, sendo M, F ou Outro: \").upper()\n",
        "if sexo == \"M\" or sexo == \"F\" or sexo == \"OUTRO\":\n",
        "  print(\"Válido\")\n",
        "else:\n",
        "  print(\"Erro: Sexo não encontrado.\")\n"
      ],
      "metadata": {
        "colab": {
          "base_uri": "https://localhost:8080/"
        },
        "id": "HhIj541AWM77",
        "outputId": "509341e9-20f9-40dc-c28f-804b2ab78cda"
      },
      "execution_count": null,
      "outputs": [
        {
          "output_type": "stream",
          "name": "stdout",
          "text": [
            "Informa a idade: 60\n",
            "Válido\n",
            "Informe o salário: 2000\n",
            "Válido\n",
            "Informe o sexo, sendo M, F ou Outro: Outro\n",
            "Válido\n"
          ]
        }
      ]
    },
    {
      "cell_type": "markdown",
      "source": [
        "5) Escreva um programa que peça a nota de 3 provas de um aluno e verifique se ele passou ou não de ano. Obs.: O aluno irá passar de ano se sua média for maior que 6."
      ],
      "metadata": {
        "id": "KRmEkTu_P6nD"
      }
    },
    {
      "cell_type": "code",
      "source": [
        "nota = float(input(\"Informe a primeira nota: \"))\n",
        "nota = nota + float(input(\"Informe a segunda nota: \"))\n",
        "nota = nota + float(input(\"Informe a terceira nota: \"))\n",
        "media = nota/3.\n",
        "if(media > 6 ):\n",
        "  print(\"\\nPassou de ano!\")\n",
        "else:\n",
        "  print(\"\\nNão passou de ano.\")\n",
        "\n",
        "print(\"A média é\", round(media,2))"
      ],
      "metadata": {
        "colab": {
          "base_uri": "https://localhost:8080/"
        },
        "id": "5kZD8ghrXMxI",
        "outputId": "2fa0757c-94a2-42cf-92eb-11559add4dae"
      },
      "execution_count": null,
      "outputs": [
        {
          "output_type": "stream",
          "name": "stdout",
          "text": [
            "Informe a primeira nota: 10\n",
            "Informe a segunda nota: 8.1\n",
            "Informe a terceira nota: 5.9\n",
            "\n",
            "Passou de ano!\n",
            "A média é 8.0\n"
          ]
        }
      ]
    },
    {
      "cell_type": "markdown",
      "source": [
        "6) Faça um programa que mostre uma questão de múltipla escolha com 5 opções (letras a, b, c, d, e). Sabendo a resposta certa, o programa deve receber a opção do usuário e informar a letra que o usuário marcou e se a resposta está certa ou errada."
      ],
      "metadata": {
        "id": "Zaal9tTpP6kk"
      }
    },
    {
      "cell_type": "code",
      "source": [
        "user = input(\"Responda a questão: \\n 1 + 1 é igual a?\\na) 0;\\nb) 2;\\nc) 3;\\nd) -2\\ne) nra.\\n\\n\").upper()\n",
        "resp = 'B'\n",
        "\n",
        "if user == resp:\n",
        "  print(\"Acertou :)\")\n",
        "else:\n",
        "  print(\"Errou :(\")"
      ],
      "metadata": {
        "colab": {
          "base_uri": "https://localhost:8080/"
        },
        "id": "xJdwBriqXflN",
        "outputId": "e4c9d0b7-69d9-46a9-cad4-3904c62e5688"
      },
      "execution_count": null,
      "outputs": [
        {
          "output_type": "stream",
          "name": "stdout",
          "text": [
            "Responda a questão: \n",
            " 1 + 1 é igual a?\n",
            "a) 0;\n",
            "b) 2;\n",
            "c) 3;\n",
            "d) -2\n",
            "e) nra\n",
            "\n",
            "b\n",
            "Acertou :)\n"
          ]
        }
      ]
    },
    {
      "cell_type": "markdown",
      "source": [
        "7) Vamos fazer um programa para verificar quem é o assassino de um crime. Para descobrir o assassino, a polícia faz um pequeno questionário com 5 perguntas onde a resposta só pode ser sim ou não:\n",
        "\n",
        "a. Mora perto da vítima?\n",
        "\n",
        "b. Já trabalhou com a vítima?\n",
        "\n",
        "c. Telefonou para a vítima?\n",
        "\n",
        "d. Esteve no local do crime?\n",
        "\n",
        "e. Devia para a vítima?\n",
        "Cada resposta sim dá um ponto para o suspeito. A polícia considera que os suspeitos com 5 pontos são os assassinos, com 4 a 3 pontos são cúmplices e 2 pontos são apenas suspeitos, necessitando outras investigações. Valores iguais ou abaixo de 1 são liberados."
      ],
      "metadata": {
        "id": "GrNerWxrQhV7"
      }
    },
    {
      "cell_type": "code",
      "source": [
        "contador = 0\n",
        "\n",
        "resp = input(\"Mora perto da vítima?\\t\\t\").upper()\n",
        "if resp =='SIM':\n",
        "  contador = contador + 1\n",
        "\n",
        "resp = input(\"Já trabalhou com a vítima?\\t\").upper()\n",
        "if resp =='SIM':\n",
        "  contador = contador + 1\n",
        "\n",
        "resp = input(\"Telefonou para a vítima?\\t\").upper()\n",
        "if resp =='SIM':\n",
        "  contador = contador + 1\n",
        "\n",
        "resp = input(\"Esteve no local do crime?\\t\").upper()\n",
        "if resp =='SIM':\n",
        "  contador = contador + 1\n",
        "\n",
        "resp = input(\"Devia para a vítima?\\t\\t\").upper()\n",
        "if resp =='SIM':\n",
        "  contador = contador + 1\n",
        "\n",
        "print(\"\\n\\n\")\n",
        "if contador == 5:\n",
        "  print(\"O investigado é o assassino!\")\n",
        "elif contador == 3 or contador == 4 :\n",
        "  print(\"O investigado é cúmplice.\")\n",
        "elif contador == 2 :\n",
        "  print(\"O investigado é suspeito.\")\n",
        "else:\n",
        "  print(\"O investigado pode ser liberado.\")"
      ],
      "metadata": {
        "id": "UjRhbmsNe0al",
        "colab": {
          "base_uri": "https://localhost:8080/"
        },
        "outputId": "aaba8ea0-6a01-4693-cad3-809c1c49a2c3"
      },
      "execution_count": null,
      "outputs": [
        {
          "output_type": "stream",
          "name": "stdout",
          "text": [
            "Mora perto da vítima?\t\tnão\n",
            "Já trabalhou com a vítima?\tnão\n",
            "Telefonou para a vítima?\tnão\n",
            "Esteve no local do crime?\tnão\n",
            "Devia para a vítima?\t\tnão\n",
            "\n",
            "\n",
            "\n",
            "O investigado pode ser liberado.\n"
          ]
        }
      ]
    },
    {
      "cell_type": "markdown",
      "source": [
        "8) Um produto vai sofrer aumento de acordo com a Tabela 1 abaixo. Faça um programa que peça para o usuário digitar o valor do produto de acordo\n",
        "com o preço antigo e escreva uma das mensagens da Tabela 2, de acordo com o preço reajustado:\n",
        "\n",
        "Tabela 1\n",
        "\n",
        "| Preço Antigo         | % de aumento |\n",
        "|----------------------|--------------|\n",
        "| Até 50 reais         | 5%           |\n",
        "| Entre 50 e 100 reais | 10%          |\n",
        "| De 100 a 150 reais   | 13%          |\n",
        "| Acima de 150 reais   | 15%          |\n",
        "\n",
        "Tabela 2\n",
        "\n",
        "| Preço Novo            | Mensagem   |\n",
        "|-----------------------|------------|\n",
        "| Até 80 reais          | Barato     |\n",
        "| Entre 80 e 115 reais  | Razoável   |\n",
        "| Entre 115 e 150 reais | Normal     |\n",
        "| Entre 150 e 170 reais | Caro       |\n",
        "| Acima de 170 reais    | Muito Caro |"
      ],
      "metadata": {
        "id": "yGHR6siwQv0s"
      }
    },
    {
      "cell_type": "code",
      "source": [
        "valor = float(input(\"Informe o valor do produto: \"))\n",
        "\n",
        "if valor < 50. :\n",
        "  valor = 1.05*valor\n",
        "elif valor < 100. :\n",
        "  valor = 1.10*valor\n",
        "elif valor <150. :\n",
        "  valor = 1.13*valor\n",
        "else :\n",
        "  valor = 1.15*valor\n",
        "\n",
        "if valor < 80. :\n",
        "  resposta = \"Barato\"\n",
        "elif valor < 115. :\n",
        "  resposta = \"Razoável\"\n",
        "elif valor <150. :\n",
        "  resposta = \"Normal\"\n",
        "elif valor <170. :\n",
        "  resposta = \"Caro\"\n",
        "else :\n",
        "  resposta = \"Muito Caro\"\n",
        "\n",
        "print(\"\\nApós sofrer o aumento, o produto custará R$ %.2f.\" % valor)\n",
        "print(\"E o novo valor é considerado: \", resposta, \".\", sep='')\n"
      ],
      "metadata": {
        "id": "9rsEO2SxPt-9",
        "colab": {
          "base_uri": "https://localhost:8080/"
        },
        "outputId": "e3a717cb-f9fa-4bf1-c6d8-5ccef0b18856"
      },
      "execution_count": null,
      "outputs": [
        {
          "output_type": "stream",
          "name": "stdout",
          "text": [
            "Informe o valor do produto: 187.03\n",
            "\n",
            "Após sofrer o aumento, o produto custará R$ 215.08.\n",
            "E o novo valor é considerado: Muito Caro.\n"
          ]
        }
      ]
    },
    {
      "cell_type": "markdown",
      "source": [
        "## Aula 03\n",
        "\n",
        "Data: 22/09/2023\n",
        "\n",
        "### Tópicos\n",
        "- Estrutura de Repetição\n",
        "  - While\n",
        "  - Break, Continue e Pass"
      ],
      "metadata": {
        "id": "1RSxkS25H7us"
      }
    },
    {
      "cell_type": "markdown",
      "source": [
        "Neste exercício, você deve criar um jogo simples em que o jogador tenta adivinhar um número secreto. O jogo continua até o jogador adivinhar corretamente ou desistir."
      ],
      "metadata": {
        "id": "gXEr3vF2xTPH"
      }
    },
    {
      "cell_type": "code",
      "source": [
        "num_secreto = 77\n",
        "\n",
        "while True:\n",
        "  tentativa = int(input(\"Adivinhe o número: \"))\n",
        "  if tentativa == num_secreto:\n",
        "    print(\"Parabens, vc acertou!!\")\n",
        "    break\n",
        "  elif tentativa < num_secreto :\n",
        "    print(\"tente um número maior\")\n",
        "  else :\n",
        "    print(\"tente um número menor\")\n"
      ],
      "metadata": {
        "colab": {
          "base_uri": "https://localhost:8080/"
        },
        "id": "BtybYB1DxUvC",
        "outputId": "4d896537-52ef-4ed7-aba1-4c6e0d9c45ad"
      },
      "execution_count": null,
      "outputs": [
        {
          "output_type": "stream",
          "name": "stdout",
          "text": [
            "Adivinhe o número: 77\n",
            "Parabens, vc acertou!!\n"
          ]
        }
      ]
    },
    {
      "cell_type": "markdown",
      "source": [
        "1) Escreva um programa que solicite um número inteiro e imprima na tela todos os números de 1 até o número digitado, separado por espaços.\n",
        "\n",
        "Exemplo\n",
        "\n",
        "número digitado: 5\n",
        "\n",
        "resultado esperado: 1 2 3 4 5\n"
      ],
      "metadata": {
        "id": "Co31W6svxYVz"
      }
    },
    {
      "cell_type": "code",
      "source": [
        "n1 = int(input(\"informe um número inteiro:  \"))\n",
        "n2 = 1\n",
        "while n2 <= n1:\n",
        "  print(n2, end=' ')\n",
        "  n2+=1"
      ],
      "metadata": {
        "colab": {
          "base_uri": "https://localhost:8080/"
        },
        "id": "aE_60MJ9xg6F",
        "outputId": "160c0792-6cb3-4397-d944-8640f75a9c2a"
      },
      "execution_count": null,
      "outputs": [
        {
          "output_type": "stream",
          "name": "stdout",
          "text": [
            "informe um número inteiro:  2\n",
            "1 2 "
          ]
        }
      ]
    },
    {
      "cell_type": "markdown",
      "source": [
        "2) Faça um programa que mostre o fatorial de um número digitado.\n",
        "\n",
        "Exemplo:\n",
        "\n",
        "número digitado: 5\n",
        "\n",
        "resultado esperado: 120"
      ],
      "metadata": {
        "id": "FASHhqcVxmb6"
      }
    },
    {
      "cell_type": "code",
      "source": [
        "numero = int(input(\"informe um número:  \"))\n",
        "fat = 1\n",
        "while numero > 1:\n",
        "  fat *=numero\n",
        "  numero -=1\n",
        "print(f'o fatorial é {fat}')"
      ],
      "metadata": {
        "colab": {
          "base_uri": "https://localhost:8080/"
        },
        "id": "QsAtYnwgx0Q0",
        "outputId": "73e719d9-053c-4604-b3a8-1a7b74f297e7"
      },
      "execution_count": null,
      "outputs": [
        {
          "output_type": "stream",
          "name": "stdout",
          "text": [
            "informe um número:  5\n",
            "o fatorial é 120\n"
          ]
        }
      ]
    },
    {
      "cell_type": "markdown",
      "source": [
        "3) Faça um programa que imprima a tabuada do 9 na tela (entre 1 e 10). Insira a conta, por exemplo, 9 * 1 = 9, sendo cada um dos valores em uma linha diferente."
      ],
      "metadata": {
        "id": "WpxxzH6qx5El"
      }
    },
    {
      "cell_type": "code",
      "source": [
        "n1 = 9\n",
        "n2 = 1\n",
        "while n2 <= 10:\n",
        "  print(f'{n1} * {n2} = {n1*n2}')\n",
        "  n2 += 1"
      ],
      "metadata": {
        "colab": {
          "base_uri": "https://localhost:8080/"
        },
        "id": "RGIH6u_xx-gw",
        "outputId": "2497dbc9-8e54-4930-e882-54c01013b07f"
      },
      "execution_count": null,
      "outputs": [
        {
          "output_type": "stream",
          "name": "stdout",
          "text": [
            "9 * 1 = 9\n",
            "9 * 2 = 18\n",
            "9 * 3 = 27\n",
            "9 * 4 = 36\n",
            "9 * 5 = 45\n",
            "9 * 6 = 54\n",
            "9 * 7 = 63\n",
            "9 * 8 = 72\n",
            "9 * 9 = 81\n",
            "9 * 10 = 90\n"
          ]
        }
      ]
    },
    {
      "cell_type": "markdown",
      "source": [
        "4) Faça um programa em que o usuário digite números quaisquer e encerrará no momento em que o valor 0 seja digitado. Ao final diga qual foi o maior número digitado.\n"
      ],
      "metadata": {
        "id": "lkKmN7RiyF69"
      }
    },
    {
      "cell_type": "code",
      "source": [
        "maior = 0\n",
        "\n",
        "while True:\n",
        "  n1 = int(input(\"informe um valor ou zero para sair: \\t\"))\n",
        "  if n1 == 0:\n",
        "    break\n",
        "  if n1 > maior:\n",
        "    maior = n1\n",
        "\n",
        "print(f'\\nO maior número foi {maior}.')"
      ],
      "metadata": {
        "colab": {
          "base_uri": "https://localhost:8080/"
        },
        "id": "3fizvqi8yKOW",
        "outputId": "0eebf55b-3e6b-4261-c2dd-ceb458c5ec9e"
      },
      "execution_count": null,
      "outputs": [
        {
          "output_type": "stream",
          "name": "stdout",
          "text": [
            "informe um valor ou zero para sair: \t1\n",
            "informe um valor ou zero para sair: \t6\n",
            "informe um valor ou zero para sair: \t4\n",
            "informe um valor ou zero para sair: \t0\n",
            "\n",
            "O maior número foi 6.\n"
          ]
        }
      ]
    },
    {
      "cell_type": "markdown",
      "source": [
        "5) Faça um script que peça para o usuário digitar a idade, o salário e o sexo de uma pessoa até que as entradas digitadas sejam válidas.\n",
        "\n",
        "a. Idade: entre 0 e 150\n",
        "b. Salário: maior que 0\n",
        "c. Gênero: M, F ou Outro\n",
        "\n",
        "Por último imprima os dados recebidos do usuário."
      ],
      "metadata": {
        "id": "dYdKVxUvybzu"
      }
    },
    {
      "cell_type": "code",
      "source": [
        "while True:\n",
        "  idade = int(input(\"Informe uma idade entre 0 e 150: \\t\"))\n",
        "  if 0 <= idade <= 150:\n",
        "    break\n",
        "\n",
        "while True:\n",
        "  salario = int(input(\"Informe um salario maior que 0: \\t\"))\n",
        "  if salario > 0:\n",
        "    break\n",
        "\n",
        "while True:\n",
        "  genero = input(\"Informe um gênero: F, M ou Outro: \\t\").upper()\n",
        "  if genero == 'F' or genero == 'M' or genero == 'Outro':\n",
        "    break\n",
        "\n",
        "print(f'\\nIdade: {idade}\\nSalario: {salario}\\nGênero: {genero}')"
      ],
      "metadata": {
        "colab": {
          "base_uri": "https://localhost:8080/"
        },
        "id": "WPjtMRrTyqDi",
        "outputId": "ea5ce990-220c-4c16-dbf7-962aea9ff468"
      },
      "execution_count": null,
      "outputs": [
        {
          "output_type": "stream",
          "name": "stdout",
          "text": [
            "Informe uma idade entre 0 e 150: \t45\n",
            "Informe um salario maior que 0: \t2000\n",
            "Informe um gênero: F, M ou Outro: \tF\n",
            "\n",
            "Idade: 45\n",
            "Salario: 2000\n",
            "Gênero: F\n"
          ]
        }
      ]
    },
    {
      "cell_type": "markdown",
      "source": [
        "6) Faça uma calculadora. O usuário deve inserir qual a operação matemática ele deseja realizar e logo em seguida os dois números.\n",
        "\n",
        "O programa deve finalizar apenas quando o usuário digitar a opção \"sair\" no momento de escolha da operação matemática."
      ],
      "metadata": {
        "id": "S44BqwZyyieE"
      }
    },
    {
      "cell_type": "code",
      "source": [
        "while True:\n",
        "  opcao = input(\"\\nInforme a operação ou 'sair':\\t\")\n",
        "  if opcao.upper() =='SAIR':\n",
        "    break\n",
        "  n1 = int(input(\"Informe o primeiro número:\\t\"))\n",
        "  n2 = int(input(\"Informe o segundo número:\\t\"))\n",
        "  if opcao == '*':\n",
        "    print(f'\\n{n1} {opcao} {n2} = {n1*n2}\\n')\n",
        "  if opcao == '/':\n",
        "    print(f'\\n{n1} {opcao} {n2} = {n1/n2}\\n')\n",
        "  if opcao == '-':\n",
        "    print(f'\\n{n1} {opcao} {n2} = {n1-n2}\\n')\n",
        "  if opcao == '+':\n",
        "    print(f'\\n{n1} {opcao} {n2} = {n1+n2}\\n')"
      ],
      "metadata": {
        "colab": {
          "base_uri": "https://localhost:8080/"
        },
        "id": "3h7syNysy06f",
        "outputId": "cb19825f-0949-4a3e-e05e-b6c74909364d"
      },
      "execution_count": null,
      "outputs": [
        {
          "name": "stdout",
          "output_type": "stream",
          "text": [
            "\n",
            "Informe a operação ou 'sair':\t-\n",
            "Informe o primeiro número:\t3\n",
            "Informe o segundo número:\t1\n",
            "\n",
            "3 - 1 = 2\n",
            "\n",
            "\n",
            "Informe a operação ou 'sair':\t+\n",
            "Informe o primeiro número:\t4\n",
            "Informe o segundo número:\t1\n",
            "\n",
            "4 + 1 = 5\n",
            "\n",
            "\n",
            "Informe a operação ou 'sair':\t*\n",
            "Informe o primeiro número:\t3\n",
            "Informe o segundo número:\t3\n",
            "\n",
            "3 * 3 = 9\n",
            "\n",
            "\n",
            "Informe a operação ou 'sair':\t/\n",
            "Informe o primeiro número:\t6\n",
            "Informe o segundo número:\t2\n",
            "\n",
            "6 / 2 = 3.0\n",
            "\n",
            "\n",
            "Informe a operação ou 'sair':\tsair\n"
          ]
        }
      ]
    },
    {
      "cell_type": "markdown",
      "source": [
        "## Aula 04\n",
        "\n",
        "Data: 25/09/2023"
      ],
      "metadata": {
        "id": "WM29Gmp9H7iw"
      }
    },
    {
      "cell_type": "markdown",
      "source": [
        "Crie uma lista qualquer e faça um programa que imprima cada elemento da lista usando o for."
      ],
      "metadata": {
        "id": "0zvficdP02P7"
      }
    },
    {
      "cell_type": "code",
      "source": [
        "# exercicio 1\n",
        "lista_qualquer = ['a', 'b', True, 1, 2, [9,10]]\n",
        "\n",
        "for i in lista_qualquer:\n",
        "  print(i, end = ' - ')"
      ],
      "metadata": {
        "colab": {
          "base_uri": "https://localhost:8080/"
        },
        "id": "Ga2xEA7Q0167",
        "outputId": "e8a4759e-90ab-4fb7-b0a4-abe8b928561e"
      },
      "execution_count": null,
      "outputs": [
        {
          "output_type": "stream",
          "name": "stdout",
          "text": [
            "a - b - True - 1 - 2 - [9, 10] - "
          ]
        }
      ]
    },
    {
      "cell_type": "markdown",
      "source": [
        "Faça um programa que imprima todos os itens de uma lista usando while e compare com o exercício 1."
      ],
      "metadata": {
        "id": "-uMXMnDQ08y6"
      }
    },
    {
      "cell_type": "code",
      "source": [
        "# exercício 2\n",
        "lista_qualquer = ['a', 'b', True, 1, 2, [9,10]]\n",
        "i = 0\n",
        "while i <len(lista_qualquer) :\n",
        "  print(lista_qualquer[i], end = ' - ')\n",
        "  i += 1"
      ],
      "metadata": {
        "colab": {
          "base_uri": "https://localhost:8080/"
        },
        "id": "knAoQKlr05ir",
        "outputId": "6f6dd955-d838-4484-b678-2d9bfc65265c"
      },
      "execution_count": null,
      "outputs": [
        {
          "output_type": "stream",
          "name": "stdout",
          "text": [
            "a - b - True - 1 - 2 - [9, 10] - "
          ]
        }
      ]
    },
    {
      "cell_type": "markdown",
      "source": [
        "Faça um programa que peça para o usuário digitar um número n e imprima uma lista com todos os números de 0 a n-1."
      ],
      "metadata": {
        "id": "SDdnqlRs1CTi"
      }
    },
    {
      "cell_type": "code",
      "source": [
        "# exercício 3\n",
        "n = int(input(\"informe um valor n: \\t\"))\n",
        "i = 0\n",
        "lista = []\n",
        "\n",
        "while i < n:\n",
        "  lista.append(i)\n",
        "  i += 1\n",
        "\n",
        "print(lista)"
      ],
      "metadata": {
        "colab": {
          "base_uri": "https://localhost:8080/"
        },
        "id": "z2SLlAJ80_ka",
        "outputId": "edaf93ed-4a15-4cd6-96fb-29dd8ce631b6"
      },
      "execution_count": null,
      "outputs": [
        {
          "output_type": "stream",
          "name": "stdout",
          "text": [
            "informe um valor n: \t3\n",
            "[0, 1, 2]\n"
          ]
        }
      ]
    },
    {
      "cell_type": "markdown",
      "source": [
        "Faça um programa que olhe todos os itens de uma lista e diga quantos deles são pares."
      ],
      "metadata": {
        "id": "gkPtmkWU1KFj"
      }
    },
    {
      "cell_type": "code",
      "source": [
        "# exercício 4\n",
        "lista = [0, 1, 2, 3, 4, 5, 6, 7, 8, 9]\n",
        "pares = 0\n",
        "\n",
        "for i in lista:\n",
        "  if i%2 == 0 :\n",
        "    pares += 1\n",
        "\n",
        "print(f\"A quantidade de pares é de {pares}.\")"
      ],
      "metadata": {
        "colab": {
          "base_uri": "https://localhost:8080/"
        },
        "id": "67nhZ1xS1Frp",
        "outputId": "48c2c86e-82c6-40e9-9793-3512f7194608"
      },
      "execution_count": null,
      "outputs": [
        {
          "output_type": "stream",
          "name": "stdout",
          "text": [
            "A quantidade de pares é de 5.\n"
          ]
        }
      ]
    },
    {
      "cell_type": "markdown",
      "source": [
        "Faça um programa que imprima o maior número de uma lista, sem usar o método `max()`"
      ],
      "metadata": {
        "id": "XL7wGun-1W_D"
      }
    },
    {
      "cell_type": "code",
      "source": [
        "lista = [1, 4, 7, 2, 8, 9, 10, 0, 5]\n",
        "\n",
        "maior = lista[0]\n",
        "i = 1\n",
        "while i < len(lista):\n",
        "  if lista[i] > maior:\n",
        "    maior = lista[i]\n",
        "  i +=1\n",
        "\n",
        "print(f'\\nO maior elemento é o {maior}. ')"
      ],
      "metadata": {
        "colab": {
          "base_uri": "https://localhost:8080/"
        },
        "id": "1zkV7pBq1NVL",
        "outputId": "64cc4d4c-86ff-4f69-9027-fba1fb698eca"
      },
      "execution_count": null,
      "outputs": [
        {
          "output_type": "stream",
          "name": "stdout",
          "text": [
            "\n",
            "O maior elemento é o 10. \n"
          ]
        }
      ]
    },
    {
      "cell_type": "code",
      "source": [
        "lista = [1, 4, 7, 2, 8, 9, 10, 0, 5]\n",
        "lista_ord = sorted(lista,  reverse= True)\n",
        "print(f'O maior valor é {lista_ord[0]}')"
      ],
      "metadata": {
        "colab": {
          "base_uri": "https://localhost:8080/"
        },
        "id": "1Y3E1xZk1bTz",
        "outputId": "27d64590-d35b-40bc-a3a5-e604b3728551"
      },
      "execution_count": null,
      "outputs": [
        {
          "output_type": "stream",
          "name": "stdout",
          "text": [
            "O maior valor é 10\n"
          ]
        }
      ]
    },
    {
      "cell_type": "markdown",
      "source": [
        "Agora usando o método `max()` faça um programa que imprima os três maiores números de uma lista."
      ],
      "metadata": {
        "id": "pnS1Yc_W1ndb"
      }
    },
    {
      "cell_type": "code",
      "source": [
        "lista = [1, 4, 7, 2, 8, 9, 10, 0, 5]\n",
        "\n",
        "maior1 = max(lista)\n",
        "lista.remove(maior1)\n",
        "\n",
        "maior2 = max(lista)\n",
        "lista.remove(maior2)\n",
        "\n",
        "maior3 = max(lista)\n",
        "print(f'Sendo a lista {lista}\\n')\n",
        "print(f'Os três maiores são {maior1}, {maior2} e {maior3}.')"
      ],
      "metadata": {
        "colab": {
          "base_uri": "https://localhost:8080/"
        },
        "id": "oLuhWrjf1klr",
        "outputId": "4d7a8338-9952-4b0f-bc55-7ac7f5c03c73"
      },
      "execution_count": null,
      "outputs": [
        {
          "output_type": "stream",
          "name": "stdout",
          "text": [
            "Sendo a lista [1, 4, 7, 2, 8, 0, 5]\n",
            "\n",
            "Os três maiores são 10, 9 e 8.\n"
          ]
        }
      ]
    },
    {
      "cell_type": "markdown",
      "source": [
        "Faça um programa que, dadas duas listas de mesmo tamanho, crie uma nova lista com cada elemento igual a soma dos elementos da lista 1 com os da lista 2, na mesma posição.\n"
      ],
      "metadata": {
        "id": "j-sa9WTu1xCR"
      }
    },
    {
      "cell_type": "code",
      "source": [
        "lista1 = [8, 1, 3, 5, 0]\n",
        "lista2 = [5, 4, 3, 2, 1]\n",
        "lista_nova = list()\n",
        "i = 0\n",
        "while i < len(lista1):\n",
        "  soma = lista1[i] + lista2[i]\n",
        "  lista_nova.append(soma)\n",
        "  i += 1\n",
        "\n",
        "print(lista_nova)\n"
      ],
      "metadata": {
        "colab": {
          "base_uri": "https://localhost:8080/"
        },
        "id": "eVua__v81uHJ",
        "outputId": "a954eed2-eeda-4a01-e435-f1c0ec6156ba"
      },
      "execution_count": null,
      "outputs": [
        {
          "output_type": "stream",
          "name": "stdout",
          "text": [
            "[13, 5, 6, 7, 1]\n"
          ]
        }
      ]
    },
    {
      "cell_type": "code",
      "source": [],
      "metadata": {
        "id": "yy4lu-AO1zhR"
      },
      "execution_count": null,
      "outputs": []
    }
  ]
}