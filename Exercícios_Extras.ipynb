{
  "nbformat": 4,
  "nbformat_minor": 0,
  "metadata": {
    "colab": {
      "provenance": [],
      "authorship_tag": "ABX9TyMsIyingZzXFQ8aulr+k62V",
      "include_colab_link": true
    },
    "kernelspec": {
      "name": "python3",
      "display_name": "Python 3"
    },
    "language_info": {
      "name": "python"
    }
  },
  "cells": [
    {
      "cell_type": "markdown",
      "metadata": {
        "id": "view-in-github",
        "colab_type": "text"
      },
      "source": [
        "<a href=\"https://colab.research.google.com/github/RSAmanda/Ada_ifood_Conding_Tank/blob/main/Exerc%C3%ADcios_Extras.ipynb\" target=\"_parent\"><img src=\"https://colab.research.google.com/assets/colab-badge.svg\" alt=\"Open In Colab\"/></a>"
      ]
    },
    {
      "cell_type": "markdown",
      "source": [
        "Faça um programa que leia 3 números e informe o maior deles."
      ],
      "metadata": {
        "id": "Hy5S8sev8c1i"
      }
    },
    {
      "cell_type": "code",
      "source": [
        "n1 = float(input(\"Informe o primeiro número:\\t\"))\n",
        "n2 = float(input(\"Informe o segundo número:\\t\"))\n",
        "n3 = float(input(\"Informe o terceiro número:\\t\"))\n",
        "\n",
        "if n1 >= n2:\n",
        "  maior = n1\n",
        "else:\n",
        "  maior = n2\n",
        "\n",
        "if n3 >= maior:\n",
        "  maior = n3\n",
        "\n",
        "print(f'O maior número é {maior}')"
      ],
      "metadata": {
        "colab": {
          "base_uri": "https://localhost:8080/"
        },
        "id": "PtOk_DJH8gX9",
        "outputId": "b6e28899-0700-46c6-ff8a-e010f287e4cd"
      },
      "execution_count": null,
      "outputs": [
        {
          "output_type": "stream",
          "name": "stdout",
          "text": [
            "Informe o primeiro número:\t2\n",
            "Informe o segundo número:\t3\n",
            "Informe o terceiro número:\t1\n",
            "O maior número é 3.0\n"
          ]
        }
      ]
    },
    {
      "cell_type": "markdown",
      "source": [
        "[Lista de Exercícios](https://wiki.python.org.br/ListaDeExercicios)\n",
        "\n",
        "- [Estrutura Sequencial](https://wiki.python.org.br/EstruturaSequencial)\n",
        "\n",
        "\n",
        "\n"
      ],
      "metadata": {
        "id": "QD8_XeTk_AtM"
      }
    },
    {
      "cell_type": "markdown",
      "source": [
        "Faça um Programa que peça o raio de um círculo, calcule e mostre sua área.\n"
      ],
      "metadata": {
        "id": "tSLCPOcO_GWd"
      }
    },
    {
      "cell_type": "code",
      "source": [
        "raio = float(input('Informe o raio de um círculo: \\t'))\n",
        "pi = 3.14159265359\n",
        "area = round(pi * (raio**2),2)\n",
        "\n",
        "print(f'A área de um círculo de raio  {round(raio,2)} é aproximadamente {area}.')"
      ],
      "metadata": {
        "colab": {
          "base_uri": "https://localhost:8080/"
        },
        "id": "whbEBYVo_2_1",
        "outputId": "cdf9c233-d53d-4ebe-f036-6352e3a8c3d2"
      },
      "execution_count": null,
      "outputs": [
        {
          "output_type": "stream",
          "name": "stdout",
          "text": [
            "Informe o raio de um círculo: \t1\n",
            "A área de um círculo de raio  1.0 é aproximadamente 3.14.\n"
          ]
        }
      ]
    },
    {
      "cell_type": "markdown",
      "source": [
        "Faça um Programa que pergunte quanto você ganha por hora e o número de horas trabalhadas no mês. Calcule e mostre o total do seu salário no referido mês."
      ],
      "metadata": {
        "id": "PfEAsMC2_GTl"
      }
    },
    {
      "cell_type": "code",
      "source": [
        "hh = float(input(\"informe o quanto ganha por hora R$ \")) # hh -> homem hora\n",
        "horas = int(input(\"Informe quantas horas foram trabalhadas no mês: \\t\"))\n",
        "\n",
        "print(f\"Trabalhando {horas} horas por mês, com o valor HH de R$ {hh},\\ntemos que seu salário será R$ {round(hh*horas,2)} no final do mês.\")\n"
      ],
      "metadata": {
        "colab": {
          "base_uri": "https://localhost:8080/"
        },
        "id": "q-si_lYMA4F7",
        "outputId": "f85fce76-4816-45a0-bbf9-ef1c6141aa77"
      },
      "execution_count": null,
      "outputs": [
        {
          "output_type": "stream",
          "name": "stdout",
          "text": [
            "informe o quanto ganha por hora R$ 20.50\n",
            "Informe quantas horas foram trabalhadas no mês: \t160\n",
            "Trabalhando 160 horas por mês, com o valor HH de R$ 20.5,\n",
            "temos que seu salário será R$ 3280.0 no final do mês.\n"
          ]
        }
      ]
    },
    {
      "cell_type": "markdown",
      "source": [
        "Faça um Programa que peça a temperatura em graus Fahrenheit, transforme e mostre a temperatura em graus Celsius.\n",
        "`C = 5 * ((F-32) / 9)`\n"
      ],
      "metadata": {
        "id": "2jR30cZf_GPO"
      }
    },
    {
      "cell_type": "code",
      "source": [
        "F = float(input(\"Informe a temperatura em Fahrenheit.\\nF = \"))\n",
        "C = 5 * ((F-32) / 9)\n",
        "print(f'\\nA temperatura {F}°F em Celsius é {round(C,1)}°C.')"
      ],
      "metadata": {
        "colab": {
          "base_uri": "https://localhost:8080/"
        },
        "id": "Wlo_YyxsCUet",
        "outputId": "48e056db-d37e-4334-b20c-7ba9ead2e930"
      },
      "execution_count": null,
      "outputs": [
        {
          "output_type": "stream",
          "name": "stdout",
          "text": [
            "Informe a temperatura em Fahrenheit.\n",
            "F = 32\n",
            "\n",
            "A temperatura 32.0°F em Celsius é 0.0°C.\n"
          ]
        }
      ]
    },
    {
      "cell_type": "markdown",
      "source": [
        "João Papo-de-Pescador, homem de bem, comprou um microcomputador para controlar o rendimento diário de seu trabalho. Toda vez que ele traz um peso de peixes maior que o estabelecido pelo regulamento de pesca do estado de São Paulo (50 quilos) deve pagar uma multa de R$ 4,00 por quilo excedente. João precisa que você faça um programa que leia a variável peso (peso de peixes) e calcule o excesso. Gravar na variável excesso a quantidade de quilos além do limite e na variável multa o valor da multa que João deverá pagar. Imprima os dados do programa com as mensagens adequadas."
      ],
      "metadata": {
        "id": "MMmYXdHj_GMo"
      }
    },
    {
      "cell_type": "code",
      "source": [
        "kg = float(input(\"Informe o peso do peixe em quilogramas.\\nKg = \"))\n",
        "\n",
        "if kg > 50. :\n",
        "  dif = kg - 50.\n",
        "  multa = dif * 4.0\n",
        "  print(f'O peixe pesa {kg} Kg, exedendo {dif} kg do estabelecido, tendo que pagar uma multa de R${round(multa,2)}.')\n",
        "else:\n",
        "  print(f'O peixe pesa {kg} Kg, não exedendo o valor estabelecido, portando, não terá pagamento de multa.')"
      ],
      "metadata": {
        "colab": {
          "base_uri": "https://localhost:8080/"
        },
        "id": "Rewj-3z2DQ98",
        "outputId": "96cdb76b-76b6-4020-f03c-5cb118c430e0"
      },
      "execution_count": null,
      "outputs": [
        {
          "output_type": "stream",
          "name": "stdout",
          "text": [
            "Informe o peso do peixe em quilogramas.\n",
            "Kg = 60\n",
            "O peixe pesa 60.0 Kg, exedendo 10.0 kg do estabelecido, tendo que pagar uma multa de R$40.0.\n"
          ]
        }
      ]
    },
    {
      "cell_type": "markdown",
      "source": [
        "  - [Estrutura de Decisão](https://wiki.python.org.br/EstruturaDeDecisao)"
      ],
      "metadata": {
        "id": "zno9TbLKDQlW"
      }
    },
    {
      "cell_type": "markdown",
      "source": [
        "Um posto está vendendo combustíveis com a seguinte tabela de descontos:\n",
        "\n",
        "* Álcool:\n",
        "\n",
        "  * até 20 litros, desconto de 3% por litro;\n",
        "  * acima de 20 litros, desconto de 5% por litro\n",
        "* Gasolina:\n",
        "\n",
        "  * até 20 litros, desconto de 4% por litro\n",
        "  * acima de 20 litros, desconto de 6% por litro\n",
        "  \n",
        "Escreva um algoritmo que leia o número de litros vendidos, o tipo de combustível (codificado da seguinte forma: A-álcool, G-gasolina), calcule e imprima o valor a ser pago pelo cliente sabendo-se que o preço do litro da gasolina é R\\$ 2,50 o preço do litro do álcool é R\\$ 1,90."
      ],
      "metadata": {
        "id": "W7N_3XgYDQir"
      }
    },
    {
      "cell_type": "code",
      "source": [
        "litros = float(input(\"Quantidade de litros vendidos:\\t\"))\n",
        "tipo = input(\"\\nDigite A para Álcool e G para Gasolina: \\t\").upper()\n",
        "\n",
        "if tipo =='A':\n",
        "  if litros < 20.0:\n",
        "    preco = litros*1.9*0.97\n",
        "  else :\n",
        "    preco = litros*1.9*0.95\n",
        "  print(f'O valor a ser pago por {litros}L de Álcool é de R${round(preco,2)}.')\n",
        "elif tipo == 'G':\n",
        "  if litros < 20.0:\n",
        "    preco = litros*2.5*0.96\n",
        "  else :\n",
        "    preco = litros*2.5*0.94\n",
        "  print(f'O valor a ser pago por {litros}L de Gasolina é de R${round(preco,2)}.')\n",
        "else:\n",
        "  print(\"Sigla de combustível incorreto\")"
      ],
      "metadata": {
        "colab": {
          "base_uri": "https://localhost:8080/"
        },
        "id": "g9c-ZkJ5iXfg",
        "outputId": "af61e298-06fe-46ed-f796-4d92a895e965"
      },
      "execution_count": null,
      "outputs": [
        {
          "output_type": "stream",
          "name": "stdout",
          "text": [
            "Quantidade de litros vendidos:\t10\n",
            "\n",
            "Digite A para Álcool e G para Gasolina: \tA\n",
            "O valor a ser pago por 10.0L de Álcool é de R$18.43.\n"
          ]
        }
      ]
    },
    {
      "cell_type": "markdown",
      "source": [
        "Uma fruteira está vendendo frutas com a seguinte tabela de preços:\n",
        "\n",
        "\n",
        " |   |Até 5 Kg | Acima de 5 Kg\n",
        " | --- | --- | --- |\n",
        " | Morango |R\\$ 2,50 por Kg | R\\$ 2,20 por Kg\n",
        " | Maçã | R\\$ 1,80 por Kg | R\\$ 1,50 por Kg\n",
        "\n",
        "\n",
        "Se o cliente comprar mais de 8 Kg em frutas ou o valor total da compra ultrapassar R$ 25,00, receberá ainda um desconto de 10% sobre este total.\n",
        "\n",
        "Escreva um algoritmo para ler a quantidade (em Kg) de morangos e a quantidade (em Kg) de maças adquiridas e escreva o valor a ser pago pelo cliente."
      ],
      "metadata": {
        "id": "ijgOGZyqDQgA"
      }
    },
    {
      "cell_type": "code",
      "source": [
        "kg_morango = float(input(\"Quantos quilogramas de morango? \\t\"))\n",
        "kg_maca = float(input(\"Quantos quilogramas de maçã? \\t\"))\n",
        "\n",
        "kg_total = kg_morango + kg_maca\n",
        "\n",
        "if 0.0 < kg_morango <= 5.0:\n",
        "  preco_morango = kg_morango*2.5\n",
        "elif kg_morango > 5.0:\n",
        "  preco_morango = kg_morango*2.2\n",
        "\n",
        "if 0.0 < kg_maca <= 5.0:\n",
        "  preco_maca = kg_maca*1.8\n",
        "elif kg_maca > 5.0:\n",
        "  preco_maca = kg_maca*1.5\n",
        "\n",
        "preco_total = preco_morango + preco_maca\n",
        "\n",
        "if kg_total >=8.0 or preco_total >=25:\n",
        "  preco_total *=0.9\n",
        "\n",
        "print(f'O total pago por {kg_morango} Kg de Morango e {kg_maca} Kg de Maçã é de R${round(preco_total,2)}')\n"
      ],
      "metadata": {
        "colab": {
          "base_uri": "https://localhost:8080/"
        },
        "id": "DnMTwx-OlPE4",
        "outputId": "f8e32b88-e47a-4759-e615-adc117747256"
      },
      "execution_count": null,
      "outputs": [
        {
          "output_type": "stream",
          "name": "stdout",
          "text": [
            "Quantos quilogramas de morango? \t10\n",
            "Quantos quilogramas de maçã? \t5\n",
            "O total pago por 10.0 Kg de Morango e 5.0 Kg de Maçã é de R$27.9\n"
          ]
        }
      ]
    },
    {
      "cell_type": "markdown",
      "source": [
        "  * [Estrutura de Repetição](https://wiki.python.org.br/EstruturaDeRepeticao)\n",
        "\n",
        "\n",
        "Faça um programa que peça uma nota, entre zero e dez. Mostre uma mensagem caso o valor seja inválido e continue pedindo até que o usuário informe um valor válido."
      ],
      "metadata": {
        "id": "V61xw6MMDQdg"
      }
    },
    {
      "cell_type": "code",
      "source": [
        "while True:\n",
        "  nota = float(input(\"\\nInfome um valor de 0 a 10:  \"))\n",
        "  if 0 <= nota <= 10:\n",
        "    print(\"Valor Válido!\")\n",
        "    break\n",
        "  else:\n",
        "    print(\"Valor Inválido.\")"
      ],
      "metadata": {
        "colab": {
          "base_uri": "https://localhost:8080/"
        },
        "id": "dEN_F_smo15J",
        "outputId": "9ed91576-2830-4ee2-dd1c-3b6ef24eee1a"
      },
      "execution_count": null,
      "outputs": [
        {
          "output_type": "stream",
          "name": "stdout",
          "text": [
            "\n",
            "Infome um valor de 0 a 10:  -1\n",
            "Valor Inválido.\n",
            "\n",
            "Infome um valor de 0 a 10:  90\n",
            "Valor Inválido.\n",
            "\n",
            "Infome um valor de 0 a 10:  5\n",
            "Valor Válido!\n"
          ]
        }
      ]
    },
    {
      "cell_type": "markdown",
      "source": [
        "Supondo que a população de um país A seja da ordem de 80000 habitantes com uma taxa anual de crescimento de 3% e que a população de B seja 200000 habitantes com uma taxa de crescimento de 1.5%. Faça um programa que calcule e escreva o número de anos necessários para que a população do país A ultrapasse ou iguale a população do país B, mantidas as taxas de crescimento."
      ],
      "metadata": {
        "id": "pzv59lyxDQbB"
      }
    },
    {
      "cell_type": "code",
      "source": [
        "pop_A = 80000\n",
        "pop_B = 200000\n",
        "qtd_anos = 0\n",
        "\n",
        "while pop_A <= pop_B:\n",
        "  qtd_anos += 1\n",
        "  pop_A *= 1.03\n",
        "  pop_B *= 1.015\n",
        "\n",
        "print(f'Daqui a {qtd_anos} anos, o país A e o país B terão {int(pop_B)} habitantes.')"
      ],
      "metadata": {
        "id": "ZGN_KGggw3Ss"
      },
      "execution_count": null,
      "outputs": []
    },
    {
      "cell_type": "markdown",
      "source": [
        "  - [Lista](https://wiki.python.org.br/ExerciciosListas)"
      ],
      "metadata": {
        "id": "yzmicxQyDQYf"
      }
    },
    {
      "cell_type": "markdown",
      "source": [
        "Faça um programa que receba a temperatura média de cada mês do ano e armazene-as em uma lista. Após isto, calcule a média anual das temperaturas e mostre todas as temperaturas acima da média anual, e em que mês elas ocorreram (mostrar o mês por extenso: 1 – Janeiro, 2 – Fevereiro, . . . )."
      ],
      "metadata": {
        "id": "F84umJtGDQWC"
      }
    },
    {
      "cell_type": "code",
      "source": [
        "meses = [\"Janeiro\", \"Fevereiro\", \"Março\", \"Abril\", \"Maio\", \"Junho\", \"Julho\", \"Agosto\", \"Setembro\", \"Outubro\", \"Novembro\", \"Dezembro\"]\n",
        "\n",
        "temp_media_mes = list()\n",
        "temp_media_anual = 0\n",
        "for i in range(12):\n",
        "  temp_media_mes.append(float(input(f'Informe a temperatura média do mês de {meses[i]}: \\t \\t')))\n",
        "  temp_media_anual+= temp_media_mes[i]\n",
        "\n",
        "temp_media_anual /=12\n",
        "print(f'A temperatura média anual é de {round(temp_media_anual,2)}°C.\\n')\n",
        "\n",
        "print(\"\\nOs meses e as temperaturas acima da média foram:\\n\")\n",
        "for i in range(12):\n",
        "  if temp_media_mes[i]> temp_media_anual:\n",
        "    print(f'{meses[i]}: {round(temp_media_mes[i])}')"
      ],
      "metadata": {
        "colab": {
          "base_uri": "https://localhost:8080/"
        },
        "id": "ZP7sI20a_Iud",
        "outputId": "f6f1e88b-7802-4940-b44e-7363f89f1d5b"
      },
      "execution_count": null,
      "outputs": [
        {
          "output_type": "stream",
          "name": "stdout",
          "text": [
            "Informe a temperatura média do mês de Janeiro: \t \t30\n",
            "Informe a temperatura média do mês de Fevereiro: \t \t31.1\n",
            "Informe a temperatura média do mês de Março: \t \t29.9\n",
            "Informe a temperatura média do mês de Abril: \t \t28.1\n",
            "Informe a temperatura média do mês de Maio: \t \t28.6\n",
            "Informe a temperatura média do mês de Junho: \t \t25\n",
            "Informe a temperatura média do mês de Julho: \t \t22.9\n",
            "Informe a temperatura média do mês de Agosto: \t \t23.5\n",
            "Informe a temperatura média do mês de Setembro: \t \t25.8\n",
            "Informe a temperatura média do mês de Outubro: \t \t26\n",
            "Informe a temperatura média do mês de Novembro: \t \t27.2\n",
            "Informe a temperatura média do mês de Dezembro: \t \t31\n",
            "A temperatura média anual é de 27.42.\n",
            "\n",
            "\n",
            "Os meses e as temperaturas acima da média foram:\n",
            "\n",
            "Janeiro: 30\n",
            "Fevereiro: 31\n",
            "Março: 30\n",
            "Abril: 28\n",
            "Maio: 29\n",
            "Dezembro: 31\n"
          ]
        }
      ]
    },
    {
      "cell_type": "markdown",
      "source": [
        "Faça um programa que leia um número indeterminado de valores, correspondentes a notas, encerrando a entrada de dados quando for informado um valor igual a -1 (que não deve ser armazenado). Após esta entrada de dados, faça:\n",
        "\n",
        "- Mostre a quantidade de valores que foram lidos;\n",
        "- Exiba todos os valores na ordem em que foram informados, um ao lado do outro;\n",
        "- Exiba todos os valores na ordem inversa à que foram informados, um abaixo do outro;\n",
        "- Calcule e mostre a soma dos valores;\n",
        "- Calcule e mostre a média dos valores;\n",
        "- Calcule e mostre a quantidade de valores acima da média calculada;\n",
        "- Calcule e mostre a quantidade de valores abaixo de sete;\n",
        "- Encerre o programa com uma mensagem;"
      ],
      "metadata": {
        "id": "An1VZv5ACSyj"
      }
    },
    {
      "cell_type": "code",
      "source": [
        "notas = []\n",
        "\n",
        "while True:\n",
        "  nota = float(input(\"Informe a nota (-1 para sair)\"))\n",
        "  if nota < 0:\n",
        "    break\n",
        "  notas.append(nota)\n",
        "\n",
        "print(f'Foram lidos {len(notas)} notas. \\nSendo elas:')\n",
        "\n",
        "for i in notas:\n",
        "  print(i, end = ' ')\n",
        "\n",
        "print(\"\\n\")\n",
        "\n",
        "for i in range(len(notas), -1):\n",
        "  print(notas[i])\n",
        "\n",
        "soma = sum(notas)\n",
        "print(\"A soma é: \", soma)\n",
        "media = soma/len(notas)\n",
        "print(\"A média é: \", media)\n",
        "\n",
        "acima_da_media = list()\n",
        "\n",
        "for i in notas:\n",
        "  if i > media:\n",
        "    acima_da_media.append(i)\n",
        "\n",
        "print(f'Tiveram {len(acima_da_media)} notas acima da média.\\nSendo elas: \\n {acima_da_media}')\n",
        "\n",
        "\n",
        "abaixo_de_sete = list()\n",
        "for i in notas:\n",
        "  if i < 7.:\n",
        "    abaixo_de_sete.append(i)\n",
        "\n",
        "print(f'Tiveram {len(abaixo_de_sete)} notas abaixo de 7.0.\\nSendo elas: \\n {abaixo_de_sete}')\n",
        "\n",
        "\n",
        "print(\"Fim do programa! Até mais.\")"
      ],
      "metadata": {
        "colab": {
          "base_uri": "https://localhost:8080/"
        },
        "id": "mtKq5uonEhlS",
        "outputId": "5dad63b2-a381-402d-b760-68a712505011"
      },
      "execution_count": null,
      "outputs": [
        {
          "output_type": "stream",
          "name": "stdout",
          "text": [
            "Informe a nota (-1 para sair)10\n",
            "Informe a nota (-1 para sair)5\n",
            "Informe a nota (-1 para sair)7\n",
            "Informe a nota (-1 para sair)8.1\n",
            "Informe a nota (-1 para sair)-1\n",
            "Foram lidos 4 notas. \n",
            "Sendo elas:\n",
            "10.0 5.0 7.0 8.1 \n",
            "\n",
            "A soma é:  30.1\n",
            "A média é:  7.525\n",
            "Tiveram 2 notas acima da média.\n",
            "Sendo elas: \n",
            " [10.0, 8.1]\n",
            "Tiveram 1 notas abaixo de 7.0.\n",
            "Sendo elas: \n",
            " [5.0]\n",
            "Fim do programa! Até mais.\n"
          ]
        }
      ]
    },
    {
      "cell_type": "markdown",
      "source": [],
      "metadata": {
        "id": "5YkPrKC7DQTh"
      }
    }
  ]
}